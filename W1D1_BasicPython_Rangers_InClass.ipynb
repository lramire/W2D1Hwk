{
 "cells": [
  {
   "cell_type": "markdown",
   "metadata": {},
   "source": [
    "# Week 2 - Monday Lesson (variable assignment, loops, lists)"
   ]
  },
  {
   "cell_type": "markdown",
   "metadata": {},
   "source": [
    "## Tasks Today:\n",
    "\n",
    "1) Int & Float assignments <br>\n",
    " &nbsp;&nbsp;&nbsp;&nbsp; a) Assigning int <br>\n",
    " &nbsp;&nbsp;&nbsp;&nbsp; b) Assigning float <br>\n",
    " &nbsp;&nbsp;&nbsp;&nbsp; c) Performing Calculations on ints and floats <br>\n",
    " &nbsp;&nbsp;&nbsp;&nbsp;&nbsp;&nbsp;&nbsp;&nbsp; - Addition <br>\n",
    " &nbsp;&nbsp;&nbsp;&nbsp;&nbsp;&nbsp;&nbsp;&nbsp; - Subtraction <br>\n",
    " &nbsp;&nbsp;&nbsp;&nbsp;&nbsp;&nbsp;&nbsp;&nbsp; - Multiplication <br>\n",
    " &nbsp;&nbsp;&nbsp;&nbsp;&nbsp;&nbsp;&nbsp;&nbsp; - Division <br>\n",
    " &nbsp;&nbsp;&nbsp;&nbsp;&nbsp;&nbsp;&nbsp;&nbsp; - Floor Division <br>\n",
    " &nbsp;&nbsp;&nbsp;&nbsp;&nbsp;&nbsp;&nbsp;&nbsp; - Modulo <br>\n",
    " &nbsp;&nbsp;&nbsp;&nbsp;&nbsp;&nbsp;&nbsp;&nbsp; - Exponential <br>\n",
    "2) String Input-Output <br>\n",
    " &nbsp;&nbsp;&nbsp;&nbsp; a) String Assignment <br>\n",
    " &nbsp;&nbsp;&nbsp;&nbsp; b) print() <br>\n",
    " &nbsp;&nbsp;&nbsp;&nbsp; c) String Concatenation <br>\n",
    " &nbsp;&nbsp;&nbsp;&nbsp; d) Type Conversion <br>\n",
    " &nbsp;&nbsp;&nbsp;&nbsp; e) input() <br>\n",
    " &nbsp;&nbsp;&nbsp;&nbsp; f) format() <br>\n",
    " &nbsp;&nbsp;&nbsp;&nbsp; g) Old Way (python 2) <br>\n",
    "3) <b>In-Class Exercise #1</b> <br>\n",
    "4) If Statements <br>\n",
    " &nbsp;&nbsp;&nbsp;&nbsp; a) 'is' keyword <br>\n",
    " &nbsp;&nbsp;&nbsp;&nbsp; b) 'in' keyword <br>\n",
    " &nbsp;&nbsp;&nbsp;&nbsp; c) 'not in' keyword <br>\n",
    "5) <b>In-Class Exercise #2</b> <br>\n",
    "6) Elif Statements <br>\n",
    "7) Else Statements <br>\n",
    "8) <b>In-Class Exercise #3</b> <br>\n",
    "9) Built-In Functions <br>\n",
    "\n",
    " &nbsp;&nbsp;&nbsp;&nbsp; b) len() <br>\n",
    " &nbsp;&nbsp;&nbsp;&nbsp; c) help() <br>\n",
    " &nbsp;&nbsp;&nbsp;&nbsp; d) isinstance() <br>\n",
    " &nbsp;&nbsp;&nbsp;&nbsp; e) abs() <br>\n",
    "10) Try and Except <br>\n"
   ]
  },
  {
   "cell_type": "markdown",
   "metadata": {},
   "source": [
    "### Int & Float Assignments"
   ]
  },
  {
   "cell_type": "markdown",
   "metadata": {},
   "source": [
    "##### Assigning int"
   ]
  },
  {
   "cell_type": "code",
   "execution_count": 5,
   "metadata": {},
   "outputs": [
    {
     "name": "stdout",
     "output_type": "stream",
     "text": [
      "5\n",
      "6\n"
     ]
    }
   ],
   "source": [
    "number = 5\n",
    "\n",
    "elephants = 10\n",
    "me = 11\n",
    "\n",
    "print(number)\n",
    "number =6\n",
    "print(number)\n"
   ]
  },
  {
   "cell_type": "code",
   "execution_count": 6,
   "metadata": {},
   "outputs": [
    {
     "name": "stdout",
     "output_type": "stream",
     "text": [
      "1.75\n"
     ]
    }
   ],
   "source": [
    "##### Assigning float\n",
    "\n",
    "num_float = 1.75\n",
    "print(num_float)"
   ]
  },
  {
   "cell_type": "code",
   "execution_count": null,
   "metadata": {},
   "outputs": [],
   "source": [
    "# float == decimal\n",
    "\n"
   ]
  },
  {
   "cell_type": "markdown",
   "metadata": {},
   "source": [
    "#### Performing Calculations on ints and floats"
   ]
  },
  {
   "cell_type": "markdown",
   "metadata": {},
   "source": [
    "##### Addition"
   ]
  },
  {
   "cell_type": "code",
   "execution_count": 12,
   "metadata": {},
   "outputs": [
    {
     "name": "stdout",
     "output_type": "stream",
     "text": [
      "10\n",
      "10\n"
     ]
    }
   ],
   "source": [
    "num1 = 3\n",
    "num2 = 7\n",
    "\n",
    "print(num1+num2)\n",
    "\n",
    "result = num1 + num2\n",
    "print(result)"
   ]
  },
  {
   "cell_type": "code",
   "execution_count": 13,
   "metadata": {},
   "outputs": [
    {
     "name": "stdout",
     "output_type": "stream",
     "text": [
      "17\n"
     ]
    }
   ],
   "source": [
    "#shorthand way\n",
    "\n",
    "result += num2\n",
    "print(result)"
   ]
  },
  {
   "cell_type": "markdown",
   "metadata": {},
   "source": [
    "##### Subtraction"
   ]
  },
  {
   "cell_type": "code",
   "execution_count": 15,
   "metadata": {},
   "outputs": [
    {
     "name": "stdout",
     "output_type": "stream",
     "text": [
      "13\n",
      "13\n",
      "11\n"
     ]
    }
   ],
   "source": [
    "num3 = 15\n",
    "num4 = 2\n",
    "\n",
    "print(num3 - num4)\n",
    "\n",
    "result = num3 - num4\n",
    "print(result)\n",
    "\n",
    "result -= num4\n",
    "\n",
    "print(result)"
   ]
  },
  {
   "cell_type": "markdown",
   "metadata": {},
   "source": [
    "##### Multiplication"
   ]
  },
  {
   "cell_type": "code",
   "execution_count": 157,
   "metadata": {},
   "outputs": [
    {
     "name": "stdout",
     "output_type": "stream",
     "text": [
      "25.0\n",
      "62.5\n",
      "62.5\n"
     ]
    }
   ],
   "source": [
    "num1 = 10\n",
    "num2 = 2.5\n",
    "\n",
    "print(num1 * num2)\n",
    "\n",
    "product = num1 * num2\n",
    "product *= num2\n",
    "print(product)\n",
    "print(product)"
   ]
  },
  {
   "cell_type": "code",
   "execution_count": 21,
   "metadata": {},
   "outputs": [
    {
     "name": "stdout",
     "output_type": "stream",
     "text": [
      "5.0\n"
     ]
    }
   ],
   "source": []
  },
  {
   "cell_type": "code",
   "execution_count": null,
   "metadata": {},
   "outputs": [],
   "source": []
  },
  {
   "cell_type": "markdown",
   "metadata": {},
   "source": [
    "##### Division"
   ]
  },
  {
   "cell_type": "code",
   "execution_count": 1,
   "metadata": {},
   "outputs": [
    {
     "name": "stdout",
     "output_type": "stream",
     "text": [
      "5.0\n"
     ]
    }
   ],
   "source": [
    "num1 = 45\n",
    "num2 = 9\n",
    "\n",
    "print(num1 / num2)\n",
    "\n"
   ]
  },
  {
   "cell_type": "code",
   "execution_count": null,
   "metadata": {},
   "outputs": [],
   "source": []
  },
  {
   "cell_type": "markdown",
   "metadata": {},
   "source": [
    "##### Floor Division"
   ]
  },
  {
   "cell_type": "code",
   "execution_count": null,
   "metadata": {},
   "outputs": [],
   "source": [
    "# utilizing // symbol. This rounds down the integer"
   ]
  },
  {
   "cell_type": "code",
   "execution_count": 26,
   "metadata": {},
   "outputs": [
    {
     "name": "stdout",
     "output_type": "stream",
     "text": [
      "3\n",
      "3.3333333333333335\n",
      "3\n",
      "3\n"
     ]
    }
   ],
   "source": [
    "print(num1 // num2)\n",
    "\n",
    "num3 =10\n",
    "num4 =3\n",
    "\n",
    "print(num3 / num4)\n",
    "print(num3 // num4)\n",
    "\n",
    "#shorthand for floor division\n",
    "\n",
    "num3 //= num4\n",
    "print(num3)"
   ]
  },
  {
   "cell_type": "code",
   "execution_count": null,
   "metadata": {},
   "outputs": [],
   "source": [
    "##### Modulo"
   ]
  },
  {
   "cell_type": "code",
   "execution_count": 25,
   "metadata": {},
   "outputs": [
    {
     "name": "stdout",
     "output_type": "stream",
     "text": [
      "1\n"
     ]
    }
   ],
   "source": [
    "# utliizing % symbol to find the remainder after division of 2 numbers\n",
    "num1 = 10\n",
    "num2 = 3\n",
    "\n",
    "print(num1 % num2)"
   ]
  },
  {
   "cell_type": "code",
   "execution_count": 27,
   "metadata": {},
   "outputs": [
    {
     "name": "stdout",
     "output_type": "stream",
     "text": [
      "1\n"
     ]
    }
   ],
   "source": [
    "#shorthand way for modulo\n",
    "\n",
    "num1 %= num2\n",
    "print(num1)"
   ]
  },
  {
   "cell_type": "code",
   "execution_count": null,
   "metadata": {},
   "outputs": [],
   "source": []
  },
  {
   "cell_type": "markdown",
   "metadata": {},
   "source": [
    "##### Exponential"
   ]
  },
  {
   "cell_type": "code",
   "execution_count": 28,
   "metadata": {},
   "outputs": [
    {
     "name": "stdout",
     "output_type": "stream",
     "text": [
      "25\n"
     ]
    }
   ],
   "source": [
    "square = 5**2\n",
    "print(square)"
   ]
  },
  {
   "cell_type": "code",
   "execution_count": 29,
   "metadata": {},
   "outputs": [
    {
     "name": "stdout",
     "output_type": "stream",
     "text": [
      "625\n"
     ]
    }
   ],
   "source": [
    "#shorthand\n",
    "\n",
    "square **= 2\n",
    "print(square)\n"
   ]
  },
  {
   "cell_type": "markdown",
   "metadata": {},
   "source": [
    "### String Input-Output"
   ]
  },
  {
   "cell_type": "markdown",
   "metadata": {},
   "source": [
    "##### String Assignment"
   ]
  },
  {
   "cell_type": "code",
   "execution_count": 36,
   "metadata": {},
   "outputs": [
    {
     "name": "stdout",
     "output_type": "stream",
     "text": [
      "Alex\n",
      "Mutt\n"
     ]
    }
   ],
   "source": [
    "name = \"Alex\"\n",
    "\n",
    "dog = 'Mutt'\n",
    "\n",
    "print(name)\n",
    "print(dog)"
   ]
  },
  {
   "cell_type": "markdown",
   "metadata": {},
   "source": [
    "##### print() <br>\n",
    "<p>Don't forget about end=' '</p>"
   ]
  },
  {
   "cell_type": "code",
   "execution_count": 39,
   "metadata": {},
   "outputs": [
    {
     "name": "stdout",
     "output_type": "stream",
     "text": [
      "Hello Alex\n",
      "Full name: Alex SwiggumHelp on built-in function print in module builtins:\n",
      "\n",
      "print(*args, sep=' ', end='\\n', file=None, flush=False)\n",
      "    Prints the values to a stream, or to sys.stdout by default.\n",
      "    \n",
      "    sep\n",
      "      string inserted between values, default a space.\n",
      "    end\n",
      "      string appended after the last value, default a newline.\n",
      "    file\n",
      "      a file-like object (stream); defaults to the current sys.stdout.\n",
      "    flush\n",
      "      whether to forcibly flush the stream.\n",
      "\n"
     ]
    }
   ],
   "source": [
    "print('Hello', name)\n",
    "\n",
    "print('Full name:', name, end = ' Swiggum')\n",
    "help(print)"
   ]
  },
  {
   "cell_type": "markdown",
   "metadata": {},
   "source": [
    "##### String Concatenation"
   ]
  },
  {
   "cell_type": "code",
   "execution_count": 43,
   "metadata": {},
   "outputs": [
    {
     "name": "stdout",
     "output_type": "stream",
     "text": [
      "Luke Skywalker\n",
      "Luke Skywalker Jedi Master\n"
     ]
    }
   ],
   "source": [
    "first_name = 'Luke'\n",
    "last_name = 'Skywalker'\n",
    "\n",
    "full_name = first_name + \" \" + last_name\n",
    "print(full_name)\n",
    "\n",
    "full_name += \" \" + 'Jedi Master'\n",
    "print(full_name)"
   ]
  },
  {
   "cell_type": "code",
   "execution_count": null,
   "metadata": {},
   "outputs": [],
   "source": [
    "my_string = \"I have a dog, her name is\"\n",
    "my_dog = \"Henri\"\n",
    "\n",
    "dog_sentence = my_string + \" \" + my_dog\n",
    "print(dog_sentence)"
   ]
  },
  {
   "cell_type": "code",
   "execution_count": null,
   "metadata": {},
   "outputs": [],
   "source": []
  },
  {
   "cell_type": "markdown",
   "metadata": {},
   "source": [
    "##### Type Conversion"
   ]
  },
  {
   "cell_type": "code",
   "execution_count": 1,
   "metadata": {},
   "outputs": [
    {
     "name": "stdout",
     "output_type": "stream",
     "text": [
      "<class 'int'>\n",
      "<class 'str'>\n",
      "<class 'str'>\n"
     ]
    },
    {
     "ename": "ValueError",
     "evalue": "invalid literal for int() with base 10: 'Alex'",
     "output_type": "error",
     "traceback": [
      "\u001b[1;31m---------------------------------------------------------------------------\u001b[0m",
      "\u001b[1;31mValueError\u001b[0m                                Traceback (most recent call last)",
      "Cell \u001b[1;32mIn[1], line 18\u001b[0m\n\u001b[0;32m     15\u001b[0m name \u001b[38;5;241m=\u001b[39m \u001b[38;5;124m'\u001b[39m\u001b[38;5;124mAlex\u001b[39m\u001b[38;5;124m'\u001b[39m\n\u001b[0;32m     16\u001b[0m \u001b[38;5;28mprint\u001b[39m(\u001b[38;5;28mtype\u001b[39m(name))\n\u001b[1;32m---> 18\u001b[0m name \u001b[38;5;241m=\u001b[39m \u001b[38;5;28;43mint\u001b[39;49m\u001b[43m(\u001b[49m\u001b[43mname\u001b[49m\u001b[43m)\u001b[49m\n\u001b[0;32m     19\u001b[0m \u001b[38;5;28mprint\u001b[39m(\u001b[38;5;28mtype\u001b[39m(name))\n",
      "\u001b[1;31mValueError\u001b[0m: invalid literal for int() with base 10: 'Alex'"
     ]
    }
   ],
   "source": [
    "# int() - convert type into integer type\n",
    "# float() - convert to float type\n",
    "# str() - convert to string type\n",
    "\n",
    "#not every string can be made into a float or integer but every integer or float can be made into a string\n",
    "# why?!?!?\n",
    "\n",
    "\n",
    "x = 12\n",
    "print(type(x))\n",
    "\n",
    "x = str(x)\n",
    "print(type(x))\n",
    "\n",
    "name = 'Alex'\n",
    "print(type(name))\n",
    "\n",
    "name = int(name)\n",
    "print(type(name))"
   ]
  },
  {
   "cell_type": "code",
   "execution_count": null,
   "metadata": {},
   "outputs": [],
   "source": []
  },
  {
   "cell_type": "code",
   "execution_count": null,
   "metadata": {},
   "outputs": [],
   "source": [
    "\n"
   ]
  },
  {
   "cell_type": "markdown",
   "metadata": {},
   "source": [
    "##### input()"
   ]
  },
  {
   "cell_type": "code",
   "execution_count": null,
   "metadata": {},
   "outputs": [],
   "source": [
    "# Input will always return a string, all of the time, forever and ever and ever\n",
    "\n",
    "# help(input)\n",
    "\n",
    "name = input('What is your name? ')\n",
    "print('Your name is, ', name)\n",
    "print(type(name))\n"
   ]
  },
  {
   "cell_type": "code",
   "execution_count": null,
   "metadata": {},
   "outputs": [],
   "source": [
    "number = int(input(\"Give me a number and I'll add 2 to it! \"))\n",
    "\n",
    "print(number + 2)"
   ]
  },
  {
   "cell_type": "code",
   "execution_count": null,
   "metadata": {},
   "outputs": [],
   "source": [
    "age = float(input(\"How old are you? \"))\n",
    "\n",
    "print(\"Your age is,\", age)\n",
    "\n",
    "age += 1\n",
    "print(\"Your are now is,\", age)\n"
   ]
  },
  {
   "cell_type": "code",
   "execution_count": null,
   "metadata": {},
   "outputs": [],
   "source": []
  },
  {
   "cell_type": "markdown",
   "metadata": {},
   "source": [
    "##### format()"
   ]
  },
  {
   "cell_type": "code",
   "execution_count": null,
   "metadata": {},
   "outputs": [],
   "source": [
    "age = int(input(\"How old are you? \"))\n",
    "name = input(\"What is your name? \")\n",
    "\n",
    "result_string = \"You are {} years old, and your name is {}.\" .format(age, name)\n",
    "print(result_string)"
   ]
  },
  {
   "cell_type": "code",
   "execution_count": null,
   "metadata": {},
   "outputs": [],
   "source": [
    "#more popular way of utilizing format prints\n",
    "\n",
    "result_again = f\"You are {age} youears old, and your name is {name}\"\n",
    "print(result_again)"
   ]
  },
  {
   "cell_type": "markdown",
   "metadata": {},
   "source": [
    "##### Old Way (python 2)"
   ]
  },
  {
   "cell_type": "code",
   "execution_count": null,
   "metadata": {},
   "outputs": [],
   "source": [
    "# 'Hey %s, there is a 0x%x error!' % (name, errno)\n",
    "\n",
    "result_again2 = \"You are %s years old, and yourn ame is %s\" %(age, name)\n",
    "\n",
    "print(result_again2)"
   ]
  },
  {
   "cell_type": "markdown",
   "metadata": {},
   "source": [
    "# In-Class Exercise 1 <br>\n",
    "<p>Create a formatted statement that asks for a car's color, year, make, model and prints out the results</p>"
   ]
  },
  {
   "cell_type": "code",
   "execution_count": 62,
   "metadata": {},
   "outputs": [
    {
     "name": "stdout",
     "output_type": "stream",
     "text": [
      "What is the color of your car? blue\n",
      "What is the year of your car?1000\n",
      "What is the model of your cartoyo\n",
      "What is the make of your carland\n",
      "You have a blue 1000 land toyo\n"
     ]
    }
   ],
   "source": [
    "color = input(\"What is the color of your car? \")\n",
    "year = int(input(\"What is the year of your car?\"))\n",
    "model = input(\"What is the model of your car\")\n",
    "make = input(\"What is the make of your car\")\n",
    "\n",
    "result_string = f\"You have a {color} {year} {make} {model}\"\n",
    "print(result_string)"
   ]
  },
  {
   "cell_type": "code",
   "execution_count": null,
   "metadata": {},
   "outputs": [],
   "source": [
    "# another example\n",
    "\n",
    "car_color = input(\"What is the color of your car?\")\n",
    "car_year = int(input(\"What is the year of your car?\"))\n",
    "car_make = input(\"What is the make of your car?\")\n",
    "car_model = input(\"What is the model of your car?\")\n",
    "\n",
    "car_info = f\"You have a {car_color} car. It is a {car_year}. The make of your car is a {car_make.title()}. The model is a {car_model.title()}.\"\n",
    "print(car_info)"
   ]
  },
  {
   "cell_type": "code",
   "execution_count": 2,
   "metadata": {},
   "outputs": [
    {
     "name": "stdout",
     "output_type": "stream",
     "text": [
      "\n",
      "<class 'str'>\n"
     ]
    },
    {
     "ename": "TypeError",
     "evalue": "unbound method str.title() needs an argument",
     "output_type": "error",
     "traceback": [
      "\u001b[1;31m---------------------------------------------------------------------------\u001b[0m",
      "\u001b[1;31mTypeError\u001b[0m                                 Traceback (most recent call last)",
      "Cell \u001b[1;32mIn[2], line 5\u001b[0m\n\u001b[0;32m      1\u001b[0m \u001b[38;5;28mprint\u001b[39m()\n\u001b[0;32m      3\u001b[0m \u001b[38;5;28mprint\u001b[39m(\u001b[38;5;28mtype\u001b[39m(\u001b[38;5;124m'\u001b[39m\u001b[38;5;124mhello\u001b[39m\u001b[38;5;124m'\u001b[39m))\n\u001b[1;32m----> 5\u001b[0m \u001b[38;5;28;43mstr\u001b[39;49m\u001b[38;5;241;43m.\u001b[39;49m\u001b[43mtitle\u001b[49m\u001b[43m(\u001b[49m\u001b[43m)\u001b[49m\n",
      "\u001b[1;31mTypeError\u001b[0m: unbound method str.title() needs an argument"
     ]
    }
   ],
   "source": [
    "print()\n",
    "\n",
    "print(type('hello'))\n",
    "\n",
    "string.title()"
   ]
  },
  {
   "cell_type": "markdown",
   "metadata": {},
   "source": [
    "### If Statements"
   ]
  },
  {
   "cell_type": "code",
   "execution_count": 68,
   "metadata": {},
   "outputs": [
    {
     "name": "stdout",
     "output_type": "stream",
     "text": [
      "Nope! \n",
      "No way\n"
     ]
    }
   ],
   "source": [
    "# Operators Less Than <, Greater Than >, Equal to ==, Not Equal To !=\n",
    "# Less Than or Equal To <=, Greater Than or Equal To >=\n",
    "\n",
    "#Truth Tree\n",
    "# T && F = F\n",
    "# T && T = T\n",
    "# T || F = T\n",
    "# F || T = T\n",
    "# F || F = F\n",
    "\n",
    "num1 = 6\n",
    "num2 = 65\n",
    "\n",
    "if num1 == num2: #F\n",
    "    print(\"They're the same #!\")\n",
    "else: #T\n",
    "    print(\"Nope! \")\n",
    "    \n",
    "\n",
    "    \n",
    "num1 = .1\n",
    "num2 = .2\n",
    "num3 = .3\n",
    "\n",
    "if num1 + num2 == num3:\n",
    "    print(\"Heck yeah!\")\n",
    "else:\n",
    "    print(\"No way\")\n",
    "    "
   ]
  },
  {
   "cell_type": "markdown",
   "metadata": {},
   "source": [
    "##### 'is' keyword"
   ]
  },
  {
   "cell_type": "code",
   "execution_count": 70,
   "metadata": {},
   "outputs": [
    {
     "name": "stdout",
     "output_type": "stream",
     "text": [
      "55\n",
      "55\n",
      "They are the same object\n"
     ]
    }
   ],
   "source": [
    "#use the \"is\" keyword checking for same/similar objects (location) not same value\n",
    "\n",
    "num2 = 55 #object stored somewhere in memory\n",
    "print(num2)\n",
    "\n",
    "num3 = num2 #same object stored at the same place in memeory (they are pointing to the same location/object)\n",
    "print(num3)\n",
    "\n",
    "if num3 is num2:\n",
    "    print(\"They are the same object\")\n",
    "else:\n",
    "    print(\"They aren't the same!!!\")\n",
    "\n",
    "\n"
   ]
  },
  {
   "cell_type": "code",
   "execution_count": 75,
   "metadata": {},
   "outputs": [],
   "source": [
    "name1 = \"Alex\""
   ]
  },
  {
   "cell_type": "code",
   "execution_count": 76,
   "metadata": {},
   "outputs": [],
   "source": [
    "name2 = \"Alex\""
   ]
  },
  {
   "cell_type": "code",
   "execution_count": 77,
   "metadata": {},
   "outputs": [
    {
     "name": "stdout",
     "output_type": "stream",
     "text": [
      "Hello\n"
     ]
    }
   ],
   "source": [
    "if name1 is name2:\n",
    "    print(\"Hello\")"
   ]
  },
  {
   "cell_type": "markdown",
   "metadata": {},
   "source": [
    "##### 'in' keyword"
   ]
  },
  {
   "cell_type": "code",
   "execution_count": 86,
   "metadata": {},
   "outputs": [
    {
     "name": "stdout",
     "output_type": "stream",
     "text": [
      "Wonderful\n"
     ]
    }
   ],
   "source": [
    "#Check if a character is in a string\n",
    "#in keyword allows us to traverse an itterable (string, list, dictionary (key/values))\n",
    "\n",
    "char_name = 'Bobba Fett'\n",
    "\n",
    "if \"b\" in char_name:\n",
    "    print(\"Wonderful\")\n",
    "else:\n",
    "    print(\"Oh no :()\")"
   ]
  },
  {
   "cell_type": "markdown",
   "metadata": {},
   "source": [
    "##### 'not in' keyword'"
   ]
  },
  {
   "cell_type": "code",
   "execution_count": 87,
   "metadata": {},
   "outputs": [
    {
     "name": "stdout",
     "output_type": "stream",
     "text": [
      "We found it!\n"
     ]
    }
   ],
   "source": [
    "if \"b\" not in char_name:\n",
    "    print(\"It's not here!!!\")\n",
    "else:\n",
    "    print(\"We found it!\")\n",
    "    \n",
    "\n"
   ]
  },
  {
   "cell_type": "code",
   "execution_count": 89,
   "metadata": {},
   "outputs": [
    {
     "name": "stdout",
     "output_type": "stream",
     "text": [
      "No var here\n"
     ]
    }
   ],
   "source": [
    "my_var = \"\" # this is a falsy. Saying: None, Flase, 0 [] {} ()\n",
    "\n",
    "if my_var: #same as asking if my_var == True (if it is equal to True - if there is a variable associated with it) \n",
    "    print('Yep got a var')\n",
    "else:\n",
    "    print('No var here')\n",
    "    "
   ]
  },
  {
   "cell_type": "markdown",
   "metadata": {},
   "source": [
    "# In-Class Exercise 2 <br>\n",
    "<p>Ask user for input, check to see if the letter 'p' is in the input</p>\n",
    "<p>Check for case sensitivity</p>\n"
   ]
  },
  {
   "cell_type": "code",
   "execution_count": 92,
   "metadata": {},
   "outputs": [
    {
     "name": "stdout",
     "output_type": "stream",
     "text": [
      "Is there a 'p' here?5\n",
      "No, ther is not\n"
     ]
    }
   ],
   "source": [
    "my_var = input(\"Is there a 'p' here?\")\n",
    "\n",
    "\n",
    "if \"p\" in my_var:\n",
    "    print(\"Yes, there is\")\n",
    "else:\n",
    "    print(\"No, ther is not\")"
   ]
  },
  {
   "cell_type": "code",
   "execution_count": null,
   "metadata": {},
   "outputs": [],
   "source": []
  },
  {
   "cell_type": "code",
   "execution_count": null,
   "metadata": {},
   "outputs": [],
   "source": []
  },
  {
   "cell_type": "code",
   "execution_count": null,
   "metadata": {},
   "outputs": [],
   "source": []
  },
  {
   "cell_type": "markdown",
   "metadata": {},
   "source": [
    "## Using 'and'/'or' with If Statements"
   ]
  },
  {
   "cell_type": "code",
   "execution_count": 98,
   "metadata": {},
   "outputs": [
    {
     "name": "stdout",
     "output_type": "stream",
     "text": [
      "True and True\n",
      "both of these are false\n"
     ]
    }
   ],
   "source": [
    "#Truth Tree\n",
    "# T && F = F\n",
    "# T && T = T\n",
    "# T || F = T\n",
    "# F || T = T\n",
    "# F || F = F\n",
    "\n",
    "num1 = 15\n",
    "num2 = 3\n",
    "num3 = 10\n",
    "num4 = 3\n",
    "\n",
    "#if with and statements\n",
    " \n",
    "        #T                   #T\n",
    "if num1 / 5 == num2 and num3 - 7 == num4:\n",
    "    print(\"True and True\")\n",
    "else:\n",
    "    print(\"one of these or both of thes are False\")\n",
    "    \n",
    "if num1 / 5 == num2 and num3 - 6 == num4:\n",
    "    print(\"True or True\")\n",
    "else:\n",
    "    print(\"both of these are false\")\n",
    "    \n"
   ]
  },
  {
   "cell_type": "markdown",
   "metadata": {},
   "source": [
    "### Elif Statements"
   ]
  },
  {
   "cell_type": "code",
   "execution_count": 102,
   "metadata": {
    "scrolled": true
   },
   "outputs": [
    {
     "name": "stdout",
     "output_type": "stream",
     "text": [
      "it's not any of these names!!!\n"
     ]
    }
   ],
   "source": [
    "#if conidtion 1\n",
    "#elif condition 2\n",
    "#elif condition 3\n",
    "#elif condition 4\n",
    "#else (all other conditions)\n",
    "\n",
    "\n",
    "first_name = \"asefsdg\"\n",
    "\n",
    "if first_name == 'smith':\n",
    "    print('That is a weird first name')\n",
    "elif first_name == 'max':\n",
    "    print('Ah yes, Max is indeed a first name')\n",
    "elif first_name == 'ryan':\n",
    "    print(\"Hello Ryan\")\n",
    "elif first_name == 'alex':\n",
    "    print('Guten Mrogan, Alex')\n",
    "else: #accounting for anything else not accounted for in our if/elif\n",
    "    print(\"it's not any of these names!!!\")\n",
    "\n",
    "\n",
    "\n",
    "    \n",
    "\n",
    "    \n"
   ]
  },
  {
   "cell_type": "code",
   "execution_count": 107,
   "metadata": {},
   "outputs": [
    {
     "name": "stdout",
     "output_type": "stream",
     "text": [
      "a is here\n",
      "f is here\n"
     ]
    }
   ],
   "source": [
    "if 'a' in first_name:\n",
    "    print('a is here')\n",
    "elif 'f' in first_name: #doesn't get to this statement if the if statement is True\n",
    "    print('f is here')\n",
    "    \n",
    "    #or\n",
    "if 'f' in first_name:\n",
    "    print('f is here')"
   ]
  },
  {
   "cell_type": "markdown",
   "metadata": {},
   "source": [
    "### Else Statements"
   ]
  },
  {
   "cell_type": "code",
   "execution_count": null,
   "metadata": {},
   "outputs": [],
   "source": [
    "#else is accounting for every other case that isn't true for any of the ifs or elifs\n"
   ]
  },
  {
   "cell_type": "markdown",
   "metadata": {},
   "source": [
    "### String Manipulation"
   ]
  },
  {
   "cell_type": "markdown",
   "metadata": {},
   "source": [
    "#### .lstrip()"
   ]
  },
  {
   "cell_type": "code",
   "execution_count": 109,
   "metadata": {
    "scrolled": true
   },
   "outputs": [
    {
     "name": "stdout",
     "output_type": "stream",
     "text": [
      " Hello there is whitespace to the left\n",
      "Hello there is whitespace to the left\n"
     ]
    }
   ],
   "source": [
    "# our_string.lstrip()\n",
    "\n",
    "# .lstrip() is going to strip any whitespace to the left\n",
    "\n",
    "my_string = \" Hello there is whitespace to the left\"\n",
    "print(my_string)\n",
    "print(my_string.lstrip())"
   ]
  },
  {
   "cell_type": "code",
   "execution_count": 111,
   "metadata": {},
   "outputs": [
    {
     "name": "stdout",
     "output_type": "stream",
     "text": [
      " Hello there is whitespace to the left\n",
      " Hello there is whitespace to the left\n"
     ]
    }
   ],
   "source": [
    "#our_string.rstrip()\n",
    "\n",
    "my_string = \" Hello there is whitespace to the left\"\n",
    "print(my_string)\n",
    "print(my_string.rstrip())"
   ]
  },
  {
   "cell_type": "code",
   "execution_count": 112,
   "metadata": {
    "scrolled": true
   },
   "outputs": [
    {
     "name": "stdout",
     "output_type": "stream",
     "text": [
      " Hello there is whitespace to the left\n",
      "Hello there is whitespace to the left\n"
     ]
    }
   ],
   "source": [
    "#our_string.strip()\n",
    "\n",
    "my_string = \" Hello there is whitespace to the left\"\n",
    "print(my_string)\n",
    "print(my_string.strip())"
   ]
  },
  {
   "cell_type": "code",
   "execution_count": null,
   "metadata": {},
   "outputs": [],
   "source": [
    "#our_strig.rstrip()\n",
    "\n",
    "my_string = \" Hello there is whitespace to the left\"\n",
    "print(my_string)\n",
    "print(my_string.rstrip())"
   ]
  },
  {
   "cell_type": "markdown",
   "metadata": {},
   "source": [
    "#### .rstrip()"
   ]
  },
  {
   "cell_type": "code",
   "execution_count": null,
   "metadata": {},
   "outputs": [],
   "source": [
    "# our_string.rstrip()\n"
   ]
  },
  {
   "cell_type": "markdown",
   "metadata": {},
   "source": [
    "#### .strip()"
   ]
  },
  {
   "cell_type": "code",
   "execution_count": null,
   "metadata": {},
   "outputs": [],
   "source": [
    "# our.string.strip()\n"
   ]
  },
  {
   "cell_type": "code",
   "execution_count": 115,
   "metadata": {},
   "outputs": [
    {
     "name": "stdout",
     "output_type": "stream",
     "text": [
      "Give me a wor, any word! jeep\n",
      "jeep\n",
      "jeep\n"
     ]
    }
   ],
   "source": [
    "\n",
    "my_input = input('Give me a wor, any word! ')\n",
    "print(my_input)\n",
    "print(my_input.strip())"
   ]
  },
  {
   "cell_type": "code",
   "execution_count": null,
   "metadata": {},
   "outputs": [],
   "source": []
  },
  {
   "cell_type": "code",
   "execution_count": 118,
   "metadata": {},
   "outputs": [
    {
     "name": "stdout",
     "output_type": "stream",
     "text": [
      ",,,,,,,,,,,r,o,d\n",
      "rod\n"
     ]
    }
   ],
   "source": [
    "#.replace() replaces characters in a string, takes in 2 arguments,\n",
    "# the first is what we are replacing, the second is what we are replacing with\n",
    "\n",
    "\n",
    "name = \",,,,,,,,,,,r,o,d\"\n",
    "print(name)\n",
    "\n",
    "replace = 'jason'\n",
    "\n",
    "name = name.replace(',', \"\")\n",
    "print(name)"
   ]
  },
  {
   "cell_type": "markdown",
   "metadata": {},
   "source": [
    "#### .title()"
   ]
  },
  {
   "cell_type": "code",
   "execution_count": 119,
   "metadata": {},
   "outputs": [
    {
     "name": "stdout",
     "output_type": "stream",
     "text": [
      "Goofy Goober\n"
     ]
    }
   ],
   "source": [
    "#our_string.title() #adds upper case. Looking for patters -start of word and title casing\n",
    "name = 'goofy goober'\n",
    "print(name.title())"
   ]
  },
  {
   "cell_type": "markdown",
   "metadata": {},
   "source": [
    "#### .upper()"
   ]
  },
  {
   "cell_type": "code",
   "execution_count": 120,
   "metadata": {},
   "outputs": [
    {
     "name": "stdout",
     "output_type": "stream",
     "text": [
      "GOOFY GOOBER\n"
     ]
    }
   ],
   "source": [
    "# our_string.upper() #upper cases everything/character\n",
    "print(name.upper())"
   ]
  },
  {
   "cell_type": "markdown",
   "metadata": {},
   "source": [
    "#### .lower()"
   ]
  },
  {
   "cell_type": "code",
   "execution_count": 121,
   "metadata": {},
   "outputs": [
    {
     "name": "stdout",
     "output_type": "stream",
     "text": [
      "goofy goober\n"
     ]
    }
   ],
   "source": [
    "# our_string.lower()\n",
    "print(name.lower())"
   ]
  },
  {
   "cell_type": "code",
   "execution_count": 122,
   "metadata": {},
   "outputs": [
    {
     "name": "stdout",
     "output_type": "stream",
     "text": [
      "Goofy goober\n"
     ]
    }
   ],
   "source": [
    "#title() capitalizes the start of EVERY work, .capitalize() capitalizes the start of only the first word\n",
    "print(name.capitalize())"
   ]
  },
  {
   "cell_type": "markdown",
   "metadata": {},
   "source": [
    "### String Exercise"
   ]
  },
  {
   "cell_type": "markdown",
   "metadata": {},
   "source": [
    "Have a user input a sentence. Return the name with all white space removed and each first letter capitalized."
   ]
  },
  {
   "cell_type": "code",
   "execution_count": 126,
   "metadata": {},
   "outputs": [
    {
     "name": "stdout",
     "output_type": "stream",
     "text": [
      "Enter a sentence heredj sou sj dosu en\n",
      "Dj Sou Sj Dosu En\n"
     ]
    }
   ],
   "source": [
    "var = input(\"Enter a sentence here\")\n",
    "\n",
    "print(var.strip().title())"
   ]
  },
  {
   "cell_type": "code",
   "execution_count": null,
   "metadata": {},
   "outputs": [],
   "source": []
  },
  {
   "cell_type": "code",
   "execution_count": null,
   "metadata": {},
   "outputs": [],
   "source": []
  },
  {
   "cell_type": "code",
   "execution_count": null,
   "metadata": {},
   "outputs": [],
   "source": []
  },
  {
   "cell_type": "markdown",
   "metadata": {},
   "source": [
    "### Built-In Functions"
   ]
  },
  {
   "cell_type": "markdown",
   "metadata": {},
   "source": [
    "##### len()"
   ]
  },
  {
   "cell_type": "code",
   "execution_count": 35,
   "metadata": {},
   "outputs": [
    {
     "name": "stdout",
     "output_type": "stream",
     "text": [
      "7\n"
     ]
    }
   ],
   "source": [
    "#works for strings and lists\n",
    "# return the length of a given iterable ( string, list, dictionary, tuples, sets) variable as an integer\n",
    "\n",
    "name = 'Brendan'\n",
    "print(len(name))\n",
    "\n",
    "#funtction is independant of classes/objects\n",
    "#method is a function inside a class/object"
   ]
  },
  {
   "cell_type": "markdown",
   "metadata": {},
   "source": [
    "##### help()"
   ]
  },
  {
   "cell_type": "code",
   "execution_count": 129,
   "metadata": {},
   "outputs": [
    {
     "name": "stdout",
     "output_type": "stream",
     "text": [
      "Help on built-in function len in module builtins:\n",
      "\n",
      "len(obj, /)\n",
      "    Return the number of items in a container.\n",
      "\n"
     ]
    }
   ],
   "source": [
    "# gives a tooltip on a python built-in function\n",
    "help(len)"
   ]
  },
  {
   "cell_type": "markdown",
   "metadata": {},
   "source": [
    "##### isinstance()"
   ]
  },
  {
   "cell_type": "code",
   "execution_count": 132,
   "metadata": {},
   "outputs": [
    {
     "name": "stdout",
     "output_type": "stream",
     "text": [
      "Its a number\n"
     ]
    }
   ],
   "source": [
    "#check a variable/value to find out what Object Family (data type) it belongs to\n",
    "# isinstance(var, type)\n",
    "\n",
    "\n",
    "my_num = 55\n",
    "\n",
    "if isinstance(my_num, int):\n",
    "    print('Its a number')\n",
    "else:\n",
    "    print('Sad day, no number here')"
   ]
  },
  {
   "cell_type": "code",
   "execution_count": null,
   "metadata": {},
   "outputs": [],
   "source": [
    "\n"
   ]
  },
  {
   "cell_type": "code",
   "execution_count": null,
   "metadata": {},
   "outputs": [],
   "source": []
  },
  {
   "cell_type": "code",
   "execution_count": null,
   "metadata": {},
   "outputs": [],
   "source": []
  },
  {
   "cell_type": "markdown",
   "metadata": {},
   "source": [
    "##### abs()"
   ]
  },
  {
   "cell_type": "code",
   "execution_count": 136,
   "metadata": {},
   "outputs": [
    {
     "name": "stdout",
     "output_type": "stream",
     "text": [
      "5\n",
      "5\n",
      "5\n"
     ]
    }
   ],
   "source": [
    "# | 5 |\n",
    "# give us the distance to zero\n",
    "\n",
    "print(abs(-5))\n",
    "print(abs(5))\n",
    "\n",
    "print(abs(25-30))"
   ]
  },
  {
   "cell_type": "markdown",
   "metadata": {},
   "source": [
    "### Try and Except"
   ]
  },
  {
   "cell_type": "code",
   "execution_count": 153,
   "metadata": {},
   "outputs": [
    {
     "name": "stdout",
     "output_type": "stream",
     "text": [
      "what is your age? 50\n",
      "You look so good for 50 years old!\n",
      "Thank you for playing!\n"
     ]
    }
   ],
   "source": [
    "# use this whenever you expect encounter a bug so that the error doesn't cause the program to stop\n",
    "# logging graceful error messages to gently nudge the user in the right direction\n",
    "\n",
    "try:\n",
    "    age = int(input(\"what is your age? \"))\n",
    "    print(f\"You look so good for {age} years old!\")\n",
    "except:\n",
    "    print(\"Please enter a valid number for age\")\n",
    "    \n",
    "print('Thank you for playing!')"
   ]
  },
  {
   "cell_type": "code",
   "execution_count": 3,
   "metadata": {
    "scrolled": true
   },
   "outputs": [
    {
     "ename": "SyntaxError",
     "evalue": "incomplete input (187683780.py, line 3)",
     "output_type": "error",
     "traceback": [
      "\u001b[1;36m  Cell \u001b[1;32mIn[3], line 3\u001b[1;36m\u001b[0m\n\u001b[1;33m    print(f\"You look so good for {age} years old!\")\u001b[0m\n\u001b[1;37m                                                   ^\u001b[0m\n\u001b[1;31mSyntaxError\u001b[0m\u001b[1;31m:\u001b[0m incomplete input\n"
     ]
    }
   ],
   "source": [
    "try:\n",
    "    age = int(input(\"what is your age? \"))\n",
    "    print(f\"You look so good for {age} years old!\")"
   ]
  },
  {
   "cell_type": "markdown",
   "metadata": {},
   "source": [
    "## Exercise #1 <br>\n",
    "<p>Accept two user ages as inputs and give us the difference between them. (The Answer should always be a positive output)</p>"
   ]
  },
  {
   "cell_type": "code",
   "execution_count": 33,
   "metadata": {},
   "outputs": [
    {
     "name": "stdin",
     "output_type": "stream",
     "text": [
      "Enter your age: 50\n",
      "Enter your age: 20\n"
     ]
    },
    {
     "name": "stdout",
     "output_type": "stream",
     "text": [
      "30 is the difference bewteen the two ages.\n"
     ]
    }
   ],
   "source": [
    "age1 = int(input('Enter your age:'))\n",
    "age2 = int(input('Enter your age:'))\n",
    "\n",
    "diff = abs(age1 - age2)\n",
    "print(f\"{diff} is the difference bewteen the two ages.\")\n",
    "\n"
   ]
  },
  {
   "cell_type": "code",
   "execution_count": 32,
   "metadata": {},
   "outputs": [
    {
     "name": "stdin",
     "output_type": "stream",
     "text": [
      "Enter an adjective: small\n",
      "Enter a noun: cat\n",
      "Enter a verb: ate\n"
     ]
    },
    {
     "name": "stdout",
     "output_type": "stream",
     "text": [
      "The small cat ate.\n"
     ]
    }
   ],
   "source": [
    "## Exercise #2 \n",
    "#<p>Accept 3 user inputs for variables named noun, verb and adjective. Print out a formatted string using the outputs.</p>\n",
    "\n",
    "adjective = input('Enter an adjective:')\n",
    "noun = input('Enter a noun:')\n",
    "verb = input('Enter a verb:')\n",
    "\n",
    "print(f\"The {adjective} {noun} {verb}.\")\n"
   ]
  },
  {
   "cell_type": "code",
   "execution_count": null,
   "metadata": {},
   "outputs": [],
   "source": []
  },
  {
   "cell_type": "markdown",
   "metadata": {},
   "source": [
    "## Exercise #3 <br>\n",
    "<p>Take in a users input for their age, if they are younger than 18 print kids, if they're 18 to 65 print adults, else print seniors</p>"
   ]
  },
  {
   "cell_type": "code",
   "execution_count": 37,
   "metadata": {},
   "outputs": [
    {
     "name": "stdin",
     "output_type": "stream",
     "text": [
      "Enter your age here: 65\n"
     ]
    },
    {
     "name": "stdout",
     "output_type": "stream",
     "text": [
      "Seniors\n"
     ]
    }
   ],
   "source": [
    "#how to do without showing user input?\n",
    "age = int(input(\"Enter your age here:\"))\n",
    "\n",
    "if age < 18:\n",
    "    print(\"Kids\")\n",
    "elif age < 65:\n",
    "    print(\"Adults\")\n",
    "else:\n",
    "    print(\"Seniors\")\n"
   ]
  },
  {
   "cell_type": "markdown",
   "metadata": {},
   "source": [
    "## Exercise #4\n",
    "<p>Take in a number from a user input, output the number squared.</p>"
   ]
  },
  {
   "cell_type": "code",
   "execution_count": 34,
   "metadata": {},
   "outputs": [
    {
     "name": "stdin",
     "output_type": "stream",
     "text": [
      "Enter a number here: 3\n"
     ]
    },
    {
     "name": "stdout",
     "output_type": "stream",
     "text": [
      "9 is 3 squared.\n"
     ]
    }
   ],
   "source": [
    "num = int(input('Enter a number here:'))\n",
    "\n",
    "square = num**2\n",
    "print(f\"{square} is {num} squared.\")\n",
    "\n",
    "\n"
   ]
  },
  {
   "cell_type": "markdown",
   "metadata": {},
   "source": [
    "## Exercise #5\n",
    "<p>Check the below variables' length. If the length of the word is greater than 5 output True, if it is less than 5, output False<p>\n"
   ]
  },
  {
   "cell_type": "code",
   "execution_count": 42,
   "metadata": {},
   "outputs": [
    {
     "name": "stdout",
     "output_type": "stream",
     "text": [
      "True\n",
      "True\n",
      "False\n",
      "True\n",
      "False\n"
     ]
    }
   ],
   "source": [
    "word1 = \"panini\"\n",
    "word2 = \"bulbasaur\"\n",
    "word3 = \"pie\"\n",
    "word4 = \"dolphin\"\n",
    "word5 = \"dog\"\n",
    "\n",
    "if len(word1) > 5:\n",
    "    print(\"True\")\n",
    "else:\n",
    "    print(\"False\")\n",
    "\n",
    "if len(word2) > 5:\n",
    "    print(\"True\")\n",
    "else:\n",
    "    print(\"False\")\n",
    "\n",
    "if len(word3) > 5:\n",
    "    print(\"True\")\n",
    "else:\n",
    "    print(\"False\")\n",
    "\n",
    "if len(word4) > 5:\n",
    "    print(\"True\")\n",
    "else:\n",
    "    print(\"False\")\n",
    "\n",
    "if len(word5) > 5:\n",
    "    print(\"True\")\n",
    "else:\n",
    "    print(\"False\")\n",
    "#Clunky. "
   ]
  }
 ],
 "metadata": {
  "kernelspec": {
   "display_name": "Python 3 (ipykernel)",
   "language": "python",
   "name": "python3"
  },
  "language_info": {
   "codemirror_mode": {
    "name": "ipython",
    "version": 3
   },
   "file_extension": ".py",
   "mimetype": "text/x-python",
   "name": "python",
   "nbconvert_exporter": "python",
   "pygments_lexer": "ipython3",
   "version": "3.10.11"
  }
 },
 "nbformat": 4,
 "nbformat_minor": 4
}
